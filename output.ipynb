{
 "cells": [
  {
   "cell_type": "code",
   "execution_count": 1,
   "id": "3fc6494d",
   "metadata": {},
   "outputs": [],
   "source": [
    "def output_student(student):\n",
    "    print('이름 =',student['name'], end='  ')\n",
    "    print('국어 =',student['kor'], end='  ')\n",
    "    print('수학 =',student['math'], end='  ')\n",
    "    print('영어 =',student['eng'], end='  ')\n",
    "    print('총점 =',student['total'], end='  ')\n",
    "    print('평균 =',student['avg'], end='  ')\n",
    "    print('평점 =',student['grade'])"
   ]
  }
 ],
 "metadata": {
  "kernelspec": {
   "display_name": "Python 3 (ipykernel)",
   "language": "python",
   "name": "python3"
  },
  "language_info": {
   "codemirror_mode": {
    "name": "ipython",
    "version": 3
   },
   "file_extension": ".py",
   "mimetype": "text/x-python",
   "name": "python",
   "nbconvert_exporter": "python",
   "pygments_lexer": "ipython3",
   "version": "3.10.6"
  }
 },
 "nbformat": 4,
 "nbformat_minor": 5
}
