{
 "cells": [
  {
   "cell_type": "code",
   "execution_count": 2,
   "id": "7e99ae9b",
   "metadata": {},
   "outputs": [],
   "source": [
    "import input,output,calc"
   ]
  },
  {
   "cell_type": "code",
   "execution_count": 3,
   "id": "ad10aa07",
   "metadata": {},
   "outputs": [
    {
     "name": "stdout",
     "output_type": "stream",
     "text": [
      "Program is Starting...\n",
      "Name : 마녀\n",
      "Korean : 98\n",
      "English : 97\n",
      "Math : 69\n",
      "이름 = 마녀  국어 = 98  수학 = 69  영어 = 97  총점 = 264  평균 = 88.0  평점 = B\n"
     ]
    }
   ],
   "source": [
    "std={}\n",
    "print('Program is Starting...')\n",
    "input.input_student(std)\n",
    "calc.calc_student(std)\n",
    "output.output_student(std)"
   ]
  },
  {
   "cell_type": "code",
   "execution_count": null,
   "id": "bd8b3972",
   "metadata": {},
   "outputs": [],
   "source": []
  }
 ],
 "metadata": {
  "kernelspec": {
   "display_name": "Python 3 (ipykernel)",
   "language": "python",
   "name": "python3"
  },
  "language_info": {
   "codemirror_mode": {
    "name": "ipython",
    "version": 3
   },
   "file_extension": ".py",
   "mimetype": "text/x-python",
   "name": "python",
   "nbconvert_exporter": "python",
   "pygments_lexer": "ipython3",
   "version": "3.10.6"
  }
 },
 "nbformat": 4,
 "nbformat_minor": 5
}
