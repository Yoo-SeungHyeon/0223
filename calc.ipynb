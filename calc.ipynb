{
 "cells": [
  {
   "cell_type": "code",
   "execution_count": 3,
   "id": "31ab3a74",
   "metadata": {},
   "outputs": [],
   "source": [
    "def calc_student(student):\n",
    "    student['total'] = student['kor']+student['math']+student['eng']\n",
    "    student['avg'] = student['total']/3.\n",
    "    student['grade'] = None\n",
    "    if 90 <= student['avg'] <= 100 : student['grade'] = 'A'\n",
    "    elif 80 <= student['avg'] < 90 : student['grade'] = 'B'\n",
    "    elif 70 <= student['avg'] < 80 : student['grade'] = 'C'\n",
    "    elif 60 <= student['avg'] < 70 : student['grade'] = 'D'\n",
    "    else : student['grade'] = 'F'"
   ]
  }
 ],
 "metadata": {
  "kernelspec": {
   "display_name": "Python 3 (ipykernel)",
   "language": "python",
   "name": "python3"
  },
  "language_info": {
   "codemirror_mode": {
    "name": "ipython",
    "version": 3
   },
   "file_extension": ".py",
   "mimetype": "text/x-python",
   "name": "python",
   "nbconvert_exporter": "python",
   "pygments_lexer": "ipython3",
   "version": "3.10.6"
  }
 },
 "nbformat": 4,
 "nbformat_minor": 5
}
